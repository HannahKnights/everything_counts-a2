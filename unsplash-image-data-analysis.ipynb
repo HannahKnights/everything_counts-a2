{
 "cells": [
  {
   "cell_type": "code",
   "execution_count": null,
   "metadata": {},
   "outputs": [],
   "source": [
    "# import relevant libraries\n",
    "import warnings\n",
    "warnings.filterwarnings(\"ignore\")\n",
    "\n",
    "import numpy as np\n",
    "import pandas as pd\n",
    "import seaborn as sns\n",
    "import matplotlib.pyplot as plt\n",
    "from IPython.display import display, Markdown\n",
    "import calendar\n",
    "%config InlineBackend.figure_format = 'retina'\n",
    "\n",
    "# load data into the dataframe\n",
    "# IMPORTANT! note the conversions.csv file was too large to be uploaded to GitHub, even when the full dataset was reduced to releavnt rows and columns\n",
    "# and also once zipped. Therefore if you want to run this code fully, then you will need to download `conversions.csv` from the following URL \n",
    "# directly from Kaggle https://www.kaggle.com/datasets/anandaramg/unsplash-image-download-data/data\n",
    "colours_df = pd.read_csv('colors.csv')\n",
    "print('downloaded colours: %s' % colours_df.shape[0])\n",
    "conversions_df = pd.read_csv('conversions.csv')\n",
    "print('downloaded conversions: %s' % conversions_df.shape[0])\n",
    "photos_df = pd.read_csv('photos.csv')\n",
    "print('downloaded photos: %s' % photos_df.shape[0])\n",
    "# data downloaded from https://www.kaggle.com/datasets/anandaramg/unsplash-image-download-data/data (November 2024)\n"
   ]
  }
 ],
 "metadata": {
  "language_info": {
   "name": "python"
  }
 },
 "nbformat": 4,
 "nbformat_minor": 2
}
